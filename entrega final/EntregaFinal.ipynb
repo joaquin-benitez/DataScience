{
  "nbformat": 4,
  "nbformat_minor": 0,
  "metadata": {
    "colab": {
      "provenance": []
    },
    "kernelspec": {
      "name": "python3",
      "display_name": "Python 3"
    },
    "language_info": {
      "name": "python"
    }
  },
  "cells": [
    {
      "cell_type": "code",
      "execution_count": null,
      "metadata": {
        "id": "Q9lSNTfiCukX"
      },
      "outputs": [],
      "source": [
        "# Importar bibliotecas necesarias\n",
        "import pandas as pd\n",
        "import numpy as np\n",
        "import matplotlib.pyplot as plt\n",
        "import seaborn as sns\n",
        "from sklearn.model_selection import train_test_split\n",
        "from sklearn.ensemble import RandomForestClassifier\n",
        "from sklearn.feature_selection import SelectKBest, f_classif\n",
        "from sklearn.metrics import accuracy_score, classification_report, confusion_matrix\n",
        "\n",
        "# Cargar el dataset\n",
        "df = pd.read_csv('C:/Users/Admin/Desktop/Programacion/datascience1/dataset/tv_shows.csv')\n",
        "\n",
        "\n",
        "# --- i) Limpieza y Exploración de Datos ---\n",
        "# Previsualizar los datos\n",
        "print(df.info())\n",
        "print(df.head())\n",
        "\n",
        "# Normalizar y gestionar valores nulos en la columna 'Age'\n",
        "df['Age'] = df['Age'].fillna('Unknown')\n",
        "\n",
        "# Codificar variables categóricas\n",
        "age_mapping = {age: i for i, age in enumerate(df['Age'].unique())}\n",
        "df['Age'] = df['Age'].map(age_mapping)\n",
        "\n",
        "# --- ii) Selección de Características ---\n",
        "# Variables independientes y objetivo (si está disponible en Netflix)\n",
        "X = df[['Year', 'Age', 'Hulu', 'Prime Video', 'Disney+']]\n",
        "y = df['Netflix']\n",
        "\n",
        "# Seleccionar las mejores K características\n",
        "k_best = SelectKBest(score_func=f_classif, k=3)\n",
        "X_new = k_best.fit_transform(X, y)\n",
        "selected_features = k_best.get_support(indices=True)\n",
        "print(\"Características seleccionadas:\", X.columns[selected_features])\n",
        "\n",
        "# --- iii) Entrenamiento de un Modelo de Clasificación ---\n",
        "# Dividir los datos en conjuntos de entrenamiento y prueba\n",
        "X_train, X_test, y_train, y_test = train_test_split(X_new, y, test_size=0.3, random_state=42)\n",
        "\n",
        "# Modelo: Random Forest\n",
        "clf = RandomForestClassifier(random_state=42)\n",
        "clf.fit(X_train, y_train)\n",
        "\n",
        "# Predicciones\n",
        "y_pred = clf.predict(X_test)\n",
        "\n",
        "# --- iv) Cálculo de Métricas ---\n",
        "accuracy = accuracy_score(y_test, y_pred)\n",
        "conf_matrix = confusion_matrix(y_test, y_pred)\n",
        "report = classification_report(y_test, y_pred)\n",
        "\n",
        "print(f\"Accuracy: {accuracy:.2f}\")\n",
        "print(\"Confusion Matrix:\\n\", conf_matrix)\n",
        "print(\"Classification Report:\\n\", report)\n",
        "\n",
        "# --- v) Generar Conclusiones ---\n",
        "print(\"Conclusiones:\")\n",
        "print(\"- El modelo obtuvo una precisión del {:.2f}, lo que indica un buen desempeño general.\".format(accuracy))\n",
        "print(\"- Las características seleccionadas parecen ser relevantes para predecir la disponibilidad en Netflix.\")\n",
        "print(\"- Se podría mejorar el modelo ajustando hiperparámetros o probando otros algoritmos.\")"
      ]
    }
  ]
}